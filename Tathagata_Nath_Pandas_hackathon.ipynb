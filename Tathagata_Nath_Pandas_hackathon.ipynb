{
  "nbformat": 4,
  "nbformat_minor": 0,
  "metadata": {
    "colab": {
      "name": "Tathagata Nath - Pandas-hackathon.ipynb",
      "provenance": [],
      "collapsed_sections": []
    },
    "kernelspec": {
      "name": "python3",
      "display_name": "Python 3"
    }
  },
  "cells": [
    {
      "cell_type": "markdown",
      "metadata": {
        "id": "MPo4XkxnGVL8",
        "colab_type": "text"
      },
      "source": [
        "# Improve CampusX\n",
        "\n",
        "## Instructions\n",
        "\n",
        "1. You have to submit your solutions before **6:00pm tomorrow**\n",
        "2. The problems that I have given(**except the 1st one**) are problems with which we are also dealing with. So, in a way we are asking for your help through this hackathon.\n",
        "3. To be honest solving even a single question is a big deal in the given time duration. So, please don't get **frustrated** if you are not able to solve even one problem. \n",
        "4. A request - **don't quit**. Infact **never quit**.\n",
        "5. Marking Scheme for this hackathon is as follows\n",
        "**Total Marks=200**\n",
        "but, while adding this to your dashboard, your total marks will be divided by a **factor of 10**.\n",
        "So, let's say you scored 90 in the hackathon, you dashboard score would be 9\n",
        "6. Top 3 performers will get a **prize**, when we will meet next.Promise:)\n"
      ]
    },
    {
      "cell_type": "code",
      "metadata": {
        "id": "698S49pO4RZ0",
        "colab_type": "code",
        "colab": {}
      },
      "source": [
        "import numpy as np\n",
        "import pandas as pd\n",
        "\n",
        "users=pd.read_csv('users.csv')\n",
        "batch_task=pd.read_csv('batch_task.csv')\n",
        "batch=pd.read_csv('batch.csv')\n",
        "url_task=pd.read_csv('url_task.csv')\n",
        "tasks=pd.read_csv('tasks.csv')\n"
      ],
      "execution_count": 0,
      "outputs": []
    },
    {
      "cell_type": "markdown",
      "metadata": {
        "id": "J0fvZDeaGdu9",
        "colab_type": "text"
      },
      "source": [
        "**Problem 1** : Write a python function which will receive 3 input i.e. batch name, start date and end date and returns the leaderboard(in that date window) of that particular batch with the following pieces of info - Name, Marks(till now)\n",
        "\n",
        "Note: If no date range is provided, show the leaderboard for the entire duration of the course\n",
        "\n",
        "**Marks -10**"
      ]
    },
    {
      "cell_type": "code",
      "metadata": {
        "id": "M5mpxSKkG6Lt",
        "colab_type": "code",
        "colab": {}
      },
      "source": [
        "# Write your code here"
      ],
      "execution_count": 0,
      "outputs": []
    },
    {
      "cell_type": "code",
      "metadata": {
        "id": "kN_SC4Ap4It_",
        "colab_type": "code",
        "colab": {}
      },
      "source": [
        ""
      ],
      "execution_count": 0,
      "outputs": []
    },
    {
      "cell_type": "markdown",
      "metadata": {
        "id": "LRkneACyI35s",
        "colab_type": "text"
      },
      "source": [
        "**Problem 2**: Write a python function that receives 1 input, batch_name and returns the list of top 10 students who require maximum attention from the teacher.\n",
        "\n",
        "**Note**: I know this is kind of abstract, but truly we are facing this problem. Try to come up with a solution/algorithm. \n",
        "\n",
        "**Tip** : Don't just think in terms of marks, also think about things like late submissions, number of submissions, myday etc\n",
        "\n",
        "**Tricky scenario**: Aisa bhi ho sakta hai koi student bas shuru me acha perform nai kar raha tha, but ab kar raha hai. So consider dates also.\n",
        "\n",
        "**Marks : 50**"
      ]
    },
    {
      "cell_type": "code",
      "metadata": {
        "id": "-A_ZLtX8HeQ2",
        "colab_type": "code",
        "colab": {}
      },
      "source": [
        "# Write your code here"
      ],
      "execution_count": 0,
      "outputs": []
    },
    {
      "cell_type": "markdown",
      "metadata": {
        "id": "NjDwO7mTKwSj",
        "colab_type": "text"
      },
      "source": [
        "**Problem 3**: Write a python function that will take batch name and a date range as input and outputs the most consistent student in that given daterange and batch\n",
        "\n",
        "**Note**: Come up with your definition of consistency\n",
        "\n",
        "**Marks - 20** "
      ]
    },
    {
      "cell_type": "code",
      "metadata": {
        "id": "pM3qakcfMQEn",
        "colab_type": "code",
        "colab": {}
      },
      "source": [
        "# Write your code here"
      ],
      "execution_count": 0,
      "outputs": []
    },
    {
      "cell_type": "markdown",
      "metadata": {
        "id": "isIEYJsfME2W",
        "colab_type": "text"
      },
      "source": [
        "**Problem 4**: Find the best student across batches\n",
        "\n",
        "**Marks - 20**"
      ]
    },
    {
      "cell_type": "code",
      "metadata": {
        "id": "fScqy8GkKtzS",
        "colab_type": "code",
        "colab": {}
      },
      "source": [
        "# Write your code here"
      ],
      "execution_count": 0,
      "outputs": []
    },
    {
      "cell_type": "markdown",
      "metadata": {
        "id": "i_nZV2O0MfpA",
        "colab_type": "text"
      },
      "source": [
        "**Problem 5** : Write a function/piece of analysis that can compare the performance of 2 batches on the whole\n",
        "\n",
        "**Note**: Again Abstract\n",
        "\n",
        "**Note 2**: Will be judging you a lot on the basis of this.\n",
        "\n",
        "**Note 3**: You can get an instant internship under us, if can apply the right thought process to this problem\n",
        "\n",
        "**Marks - 50**"
      ]
    },
    {
      "cell_type": "code",
      "metadata": {
        "id": "lwJ1FkVqNCK1",
        "colab_type": "code",
        "colab": {}
      },
      "source": [
        "# Write your code here"
      ],
      "execution_count": 0,
      "outputs": []
    },
    {
      "cell_type": "markdown",
      "metadata": {
        "id": "YBW2zMk6NuA4",
        "colab_type": "text"
      },
      "source": [
        "**Problem 6** : Surprise us\n",
        "\n",
        "**Description**: Find something(point/points of analysis) that might surprise us\n",
        "\n",
        "**Marks - 50**"
      ]
    },
    {
      "cell_type": "code",
      "metadata": {
        "id": "Nq3QoJeYOCEo",
        "colab_type": "code",
        "colab": {}
      },
      "source": [
        ""
      ],
      "execution_count": 0,
      "outputs": []
    }
  ]
}